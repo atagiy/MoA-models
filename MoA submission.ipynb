{
 "cells": [
  {
   "cell_type": "markdown",
   "metadata": {
    "papermill": {
     "duration": 0.005091,
     "end_time": "2020-12-06T15:56:14.224593",
     "exception": false,
     "start_time": "2020-12-06T15:56:14.219502",
     "status": "completed"
    },
    "tags": []
   },
   "source": [
    "## Main Idea\n",
    "* write your inference as python scripts so that each time it should clear the cache and reset the state\n",
    "* submit sample submission to pass through initial commit\n",
    "* run all inference codes for whole test set"
   ]
  },
  {
   "cell_type": "code",
   "execution_count": 1,
   "metadata": {
    "_cell_guid": "b1076dfc-b9ad-4769-8c92-a6c4dae69d19",
    "_uuid": "8f2839f25d086af736a60e9eeb907d3b93b6e0e5",
    "execution": {
     "iopub.execute_input": "2020-12-06T15:56:14.238525Z",
     "iopub.status.busy": "2020-12-06T15:56:14.237640Z",
     "iopub.status.idle": "2020-12-06T15:56:14.240671Z",
     "shell.execute_reply": "2020-12-06T15:56:14.240105Z"
    },
    "papermill": {
     "duration": 0.011627,
     "end_time": "2020-12-06T15:56:14.240773",
     "exception": false,
     "start_time": "2020-12-06T15:56:14.229146",
     "status": "completed"
    },
    "tags": []
   },
   "outputs": [],
   "source": [
    "import pandas as pd\n",
    "import numpy as np\n",
    "import glob"
   ]
  },
  {
   "cell_type": "code",
   "execution_count": 2,
   "metadata": {
    "_cell_guid": "79c7e3d0-c299-4dcb-8224-4455121ee9b0",
    "_uuid": "d629ff2d2480ee46fbb7e2d37f6b5fab8052498a",
    "execution": {
     "iopub.execute_input": "2020-12-06T15:56:14.272563Z",
     "iopub.status.busy": "2020-12-06T15:56:14.262322Z",
     "iopub.status.idle": "2020-12-06T15:56:16.974688Z",
     "shell.execute_reply": "2020-12-06T15:56:16.973778Z"
    },
    "papermill": {
     "duration": 2.729866,
     "end_time": "2020-12-06T15:56:16.974826",
     "exception": false,
     "start_time": "2020-12-06T15:56:14.244960",
     "status": "completed"
    },
    "tags": []
   },
   "outputs": [],
   "source": [
    "test = pd.read_csv('../input/lish-moa/test_features.csv')\n",
    "if len(test) == 3982:\n",
    "    submission = pd.read_csv('../input/lish-moa/sample_submission.csv')\n",
    "    submission.to_csv('submission.csv', index=False)\n",
    "else:\n",
    "    ! ipython ../input/ensemble-model-for-moa/MLP-with-K-Folds-by-Drug-ID.py\n",
    "    ! ipython ../input/ensemble-model-for-moa/tabnet-model.py\n",
    "    ! ipython ../input/ensemble-model-for-moa/ResNet-model.py\n",
    "    ! ipython ../input/ensemble-model-for-moa/tabnet-model-with-KMeans-clustering.py\n",
    "    ! ipython ../input/ensemble-model-for-moa/MLP-with-DenoisingAutoEncoder.py\n",
    "    \n",
    "    submission = pd.read_csv('../input/lish-moa/sample_submission.csv')\n",
    "    submission.iloc[:, 1:] = 0\n",
    "    \n",
    "    def order_sub(sub) : \n",
    "        return sub.sort_values('sig_id').reset_index(drop=True)\n",
    "    \n",
    "    df0 = pd.read_csv('./sub0.csv')\n",
    "    df1 = pd.read_csv('./sub1.csv')\n",
    "    df2 = pd.read_csv('./sub2.csv')\n",
    "    df3 = pd.read_csv('./sub3.csv')\n",
    "    df4 = pd.read_csv('./sub4.csv')\n",
    "\n",
    "    sub0 = order_sub(df0)\n",
    "    sub1 = order_sub(df1)\n",
    "    sub2 = order_sub(df2)\n",
    "    sub3 = order_sub(df3)\n",
    "    sub4 = order_sub(df4)\n",
    "\n",
    "    list_w=[0.390975, 0.159172, 0.148144, 0.165383, 0.136325]\n",
    "\n",
    "    submission.iloc[:,1:] =  sub0.iloc[:,1:]*list_w[0] +sub1.iloc[:,1:]*list_w[1]+sub2.iloc[:,1:]*list_w[2]+sub3.iloc[:,1:]*list_w[3]+sub4.iloc[:,1:]*list_w[4]\n",
    "\n",
    "    submission.to_csv('submission.csv', index=False)\n",
    "\n",
    "    submission\n",
    "    "
   ]
  },
  {
   "cell_type": "code",
   "execution_count": null,
   "metadata": {
    "papermill": {
     "duration": 0.004764,
     "end_time": "2020-12-06T15:56:16.985061",
     "exception": false,
     "start_time": "2020-12-06T15:56:16.980297",
     "status": "completed"
    },
    "tags": []
   },
   "outputs": [],
   "source": []
  }
 ],
 "metadata": {
  "kernelspec": {
   "display_name": "Python 3",
   "language": "python",
   "name": "python3"
  },
  "language_info": {
   "codemirror_mode": {
    "name": "ipython",
    "version": 3
   },
   "file_extension": ".py",
   "mimetype": "text/x-python",
   "name": "python",
   "nbconvert_exporter": "python",
   "pygments_lexer": "ipython3",
   "version": "3.7.6"
  },
  "papermill": {
   "duration": 7.245381,
   "end_time": "2020-12-06T15:56:17.096120",
   "environment_variables": {},
   "exception": null,
   "input_path": "__notebook__.ipynb",
   "output_path": "__notebook__.ipynb",
   "parameters": {},
   "start_time": "2020-12-06T15:56:09.850739",
   "version": "2.1.0"
  }
 },
 "nbformat": 4,
 "nbformat_minor": 4
}
